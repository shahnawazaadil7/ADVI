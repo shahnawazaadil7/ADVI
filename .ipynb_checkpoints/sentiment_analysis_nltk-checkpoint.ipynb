{
 "cells": [
  {
   "cell_type": "markdown",
   "metadata": {},
   "source": [
    "# Task for Jan 7\n",
    "\n",
    "create sentiment analysis model using NLTK or Hugging face transformers"
   ]
  },
  {
   "cell_type": "code",
   "execution_count": 2,
   "metadata": {},
   "outputs": [
    {
     "name": "stderr",
     "output_type": "stream",
     "text": [
      "[nltk_data] Downloading package punkt to\n",
      "[nltk_data]     /Users/shahnawazaadil/nltk_data...\n",
      "[nltk_data]   Package punkt is already up-to-date!\n",
      "[nltk_data] Downloading package vader_lexicon to\n",
      "[nltk_data]     /Users/shahnawazaadil/nltk_data...\n",
      "[nltk_data]   Package vader_lexicon is already up-to-date!\n"
     ]
    },
    {
     "data": {
      "text/plain": [
       "True"
      ]
     },
     "execution_count": 2,
     "metadata": {},
     "output_type": "execute_result"
    }
   ],
   "source": [
    "import nltk\n",
    "nltk.download('punkt')\n",
    "nltk.download('vader_lexicon')"
   ]
  },
  {
   "cell_type": "code",
   "execution_count": 3,
   "metadata": {},
   "outputs": [],
   "source": [
    "from nltk.sentiment.vader import SentimentIntensityAnalyzer\n",
    "sid = SentimentIntensityAnalyzer()"
   ]
  },
  {
   "cell_type": "code",
   "execution_count": 4,
   "metadata": {},
   "outputs": [],
   "source": [
    "sentences = [\n",
    "    \"I love this product! It's amazing.\",\n",
    "    \"This is the worst experience I've ever had.\",\n",
    "    \"I'm not sure how I feel about this.\",\n",
    "    \"It's okay, not great but not terrible either.\"\n",
    "]"
   ]
  },
  {
   "cell_type": "code",
   "execution_count": 5,
   "metadata": {},
   "outputs": [
    {
     "name": "stdout",
     "output_type": "stream",
     "text": [
      "Sentence: I love this product! It's amazing.\n",
      "neg: 0.0\n",
      "neu: 0.266\n",
      "pos: 0.734\n",
      "compound: 0.8516\n",
      "\n",
      "Sentence: This is the worst experience I've ever had.\n",
      "neg: 0.369\n",
      "neu: 0.631\n",
      "pos: 0.0\n",
      "compound: -0.6249\n",
      "\n",
      "Sentence: I'm not sure how I feel about this.\n",
      "neg: 0.246\n",
      "neu: 0.754\n",
      "pos: 0.0\n",
      "compound: -0.2411\n",
      "\n",
      "Sentence: It's okay, not great but not terrible either.\n",
      "neg: 0.18\n",
      "neu: 0.419\n",
      "pos: 0.401\n",
      "compound: 0.3887\n",
      "\n"
     ]
    }
   ],
   "source": [
    "for sentence in sentences:\n",
    "    print(f\"Sentence: {sentence}\")\n",
    "    sentiment_scores = sid.polarity_scores(sentence)\n",
    "    for score in sentiment_scores:\n",
    "        print(f\"{score}: {sentiment_scores[score]}\")\n",
    "    print()"
   ]
  },
  {
   "cell_type": "code",
   "execution_count": null,
   "metadata": {},
   "outputs": [],
   "source": []
  }
 ],
 "metadata": {
  "kernelspec": {
   "display_name": "Python 3 (ipykernel)",
   "language": "python",
   "name": "python3"
  },
  "language_info": {
   "codemirror_mode": {
    "name": "ipython",
    "version": 3
   },
   "file_extension": ".py",
   "mimetype": "text/x-python",
   "name": "python",
   "nbconvert_exporter": "python",
   "pygments_lexer": "ipython3",
   "version": "3.11.4"
  }
 },
 "nbformat": 4,
 "nbformat_minor": 2
}
