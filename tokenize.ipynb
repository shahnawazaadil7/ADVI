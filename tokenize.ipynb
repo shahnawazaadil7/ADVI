{
 "cells": [
  {
   "cell_type": "markdown",
   "metadata": {},
   "source": [
    "NLTK is a Python library for working with human language data, and a corpus is a large collection of texts used for natural language processing (NLP) and linguistic analysis"
   ]
  },
  {
   "cell_type": "code",
   "execution_count": 1,
   "metadata": {},
   "outputs": [],
   "source": [
    "import nltk\n",
    "from nltk.corpus import stopwords"
   ]
  },
  {
   "cell_type": "code",
   "execution_count": 2,
   "metadata": {},
   "outputs": [],
   "source": [
    "#nltk.download('punkt')"
   ]
  },
  {
   "cell_type": "code",
   "execution_count": 3,
   "metadata": {},
   "outputs": [],
   "source": [
    "text = \"They This is a simple text. It contains two sentences. Natural Language Processing (NLP) is a fascinating field. It involves the interaction between computers and human language. Understanding NLP can open up many opportunities.\""
   ]
  },
  {
   "cell_type": "code",
   "execution_count": 4,
   "metadata": {},
   "outputs": [
    {
     "name": "stdout",
     "output_type": "stream",
     "text": [
      "1: They This is a simple text.\n",
      "2: It contains two sentences.\n",
      "3: Natural Language Processing (NLP) is a fascinating field.\n",
      "4: It involves the interaction between computers and human language.\n",
      "5: Understanding NLP can open up many opportunities.\n"
     ]
    }
   ],
   "source": [
    "sentences = nltk.sent_tokenize(text)\n",
    "for i,sentences in enumerate(sentences):\n",
    "    print(f\"{i+1}: {sentences}\")"
   ]
  },
  {
   "cell_type": "code",
   "execution_count": 5,
   "metadata": {},
   "outputs": [
    {
     "name": "stdout",
     "output_type": "stream",
     "text": [
      "['They', 'This', 'is', 'a', 'simple', 'text', '.', 'It', 'contains', 'two', 'sentences', '.', 'Natural', 'Language', 'Processing', '(', 'NLP', ')', 'is', 'a', 'fascinating', 'field', '.', 'It', 'involves', 'the', 'interaction', 'between', 'computers', 'and', 'human', 'language', '.', 'Understanding', 'NLP', 'can', 'open', 'up', 'many', 'opportunities', '.']\n"
     ]
    }
   ],
   "source": [
    "words = nltk.word_tokenize(text)\n",
    "print(words)"
   ]
  },
  {
   "cell_type": "code",
   "execution_count": 6,
   "metadata": {},
   "outputs": [
    {
     "name": "stdout",
     "output_type": "stream",
     "text": [
      "['simple', 'text', '.', 'contains', 'two', 'sentences', '.', 'Natural', 'Language', 'Processing', '(', 'NLP', ')', 'fascinating', 'field', '.', 'involves', 'interaction', 'computers', 'human', 'language', '.', 'Understanding', 'NLP', 'open', 'many', 'opportunities', '.']\n"
     ]
    }
   ],
   "source": [
    "#nltk.download('stopwords')\n",
    "stop_words = set(stopwords.words('english'))\n",
    "filtered_words = [word for word in words if word.lower() not in stop_words]\n",
    "print(filtered_words)"
   ]
  },
  {
   "cell_type": "code",
   "execution_count": 7,
   "metadata": {},
   "outputs": [
    {
     "name": "stdout",
     "output_type": "stream",
     "text": [
      "['simple', 'text', '.', 'contains', 'two', 'sentence', '.', 'Natural', 'Language', 'Processing', '(', 'NLP', ')', 'fascinating', 'field', '.', 'involves', 'interaction', 'computer', 'human', 'language', '.', 'Understanding', 'NLP', 'open', 'many', 'opportunity', '.']\n"
     ]
    }
   ],
   "source": [
    "#nltk.download('wordnet')\n",
    "#nltk.download('omw-1.4')\n",
    "from nltk.stem import WordNetLemmatizer\n",
    "lemm = WordNetLemmatizer()\n",
    "lemm_words = [lemm.lemmatize(word) for word in filtered_words]\n",
    "print(lemm_words)"
   ]
  },
  {
   "cell_type": "code",
   "execution_count": 8,
   "metadata": {},
   "outputs": [
    {
     "name": "stdout",
     "output_type": "stream",
     "text": [
      "['simpl', 'text', '.', 'contain', 'two', 'sentenc', '.', 'natur', 'languag', 'process', '(', 'nlp', ')', 'fascin', 'field', '.', 'involv', 'interact', 'comput', 'human', 'languag', '.', 'understand', 'nlp', 'open', 'mani', 'opportun', '.']\n"
     ]
    }
   ],
   "source": [
    "from nltk.stem import PorterStemmer\n",
    "stem = nltk.PorterStemmer()\n",
    "stemmed_words = [stem.stem(word) for word in lemm_words]\n",
    "print(stemmed_words)"
   ]
  },
  {
   "cell_type": "code",
   "execution_count": 9,
   "metadata": {},
   "outputs": [
    {
     "name": "stdout",
     "output_type": "stream",
     "text": [
      "['They', 'This', 'is', 'a', 'simple', 'text', '.', 'It', 'contains', 'two', 'sentences', '.', 'Natural', 'Language', 'Processing', '(', 'NLP', ')', 'is', 'a', 'fascinating', 'field', '.', 'It', 'involves', 'the', 'interaction', 'between', 'computers', 'and', 'human', 'language', '.', 'Understanding', 'NLP', 'can', 'open', 'up', 'many', 'opportunities', '.']\n",
      "['simple', 'text', '.', 'contains', 'two', 'sentences', '.', 'Natural', 'Language', 'Processing', '(', 'NLP', ')', 'fascinating', 'field', '.', 'involves', 'interaction', 'computers', 'human', 'language', '.', 'Understanding', 'NLP', 'open', 'many', 'opportunities', '.']\n",
      "['simple', 'text', '.', 'contains', 'two', 'sentence', '.', 'Natural', 'Language', 'Processing', '(', 'NLP', ')', 'fascinating', 'field', '.', 'involves', 'interaction', 'computer', 'human', 'language', '.', 'Understanding', 'NLP', 'open', 'many', 'opportunity', '.']\n",
      "['simpl', 'text', '.', 'contain', 'two', 'sentenc', '.', 'natur', 'languag', 'process', '(', 'nlp', ')', 'fascin', 'field', '.', 'involv', 'interact', 'comput', 'human', 'languag', '.', 'understand', 'nlp', 'open', 'mani', 'opportun', '.']\n"
     ]
    }
   ],
   "source": [
    "print(words)\n",
    "print(filtered_words)\n",
    "print(lemm_words)\n",
    "print(stemmed_words)"
   ]
  }
 ],
 "metadata": {
  "kernelspec": {
   "display_name": "Python 3",
   "language": "python",
   "name": "python3"
  },
  "language_info": {
   "codemirror_mode": {
    "name": "ipython",
    "version": 3
   },
   "file_extension": ".py",
   "mimetype": "text/x-python",
   "name": "python",
   "nbconvert_exporter": "python",
   "pygments_lexer": "ipython3",
   "version": "3.9.6"
  }
 },
 "nbformat": 4,
 "nbformat_minor": 2
}
